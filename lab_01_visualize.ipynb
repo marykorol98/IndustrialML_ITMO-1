{
 "cells": [
  {
   "cell_type": "code",
   "execution_count": null,
   "metadata": {},
   "outputs": [],
   "source": [
    "import branca.colormap as cmp\n",
    "import folium\n",
    "import geojson\n",
    "import geopandas as gpd\n",
    "import pandas as pd\n",
    "from shapely import wkb\n",
    "from tqdm import tqdm"
   ]
  },
  {
   "cell_type": "code",
   "execution_count": null,
   "metadata": {},
   "outputs": [],
   "source": [
    "with open(\"./../source/spe_geometry.geojson\") as f_src:\n",
    "    sp_geojson = geojson.load(f_src)\n",
    "sp_geojson.keys()"
   ]
  },
  {
   "cell_type": "code",
   "execution_count": null,
   "metadata": {},
   "outputs": [],
   "source": [
    "mart_df = (\n",
    "    pd.read_pickle(\"./../data/forecast_mart.pkl\")[[\"polygon_id\", \"event_time_id\", \"posts_count\"]]\n",
    "    .merge(\n",
    "        pd.read_pickle(\"./../data/polygons.pkl\")[[\"polygon_id\", \"polygon_center_wkb\", \"polygon_wkb\"]],\n",
    "        how=\"inner\",\n",
    "        on=[\"polygon_id\"],\n",
    "    )\n",
    "    .merge(\n",
    "        pd.read_pickle(\"./../data/calendar.pkl\")[[\"event_time_id\", \"year\", \"month\"]],\n",
    "        how=\"inner\",\n",
    "        on=[\"event_time_id\"],\n",
    "    )\n",
    ")\n",
    "\n",
    "mart_df = mart_df.groupby([\"year\", \"month\", \"polygon_id\", \"polygon_wkb\"], as_index=False)[[\"posts_count\"]].sum()\n",
    "mart_df[\"event_month\"] = mart_df[\"year\"].astype(str) + \"-\" + mart_df[\"month\"].astype(str).str.zfill(2)\n",
    "\n",
    "mart_df"
   ]
  },
  {
   "cell_type": "code",
   "execution_count": null,
   "metadata": {},
   "outputs": [],
   "source": [
    "plot_mart_df = gpd.GeoDataFrame(\n",
    "    mart_df[[\"polygon_id\", \"event_month\", \"posts_count\"]],\n",
    "    geometry=mart_df[\"polygon_wkb\"].apply(wkb.loads),\n",
    "    crs=\"EPSG:4326\",\n",
    ")\n",
    "\n",
    "plot_mart_df"
   ]
  },
  {
   "cell_type": "code",
   "execution_count": null,
   "metadata": {},
   "outputs": [],
   "source": [
    "valid_df = (\n",
    "    pd.read_pickle(\"./../data/valid.pkl\")\n",
    "    .rename(columns={\"fact_posts_count\": \"posts_count\"})[[\"polygon_id\", \"posts_count\"]]\n",
    "    .merge(pd.read_pickle(\"./../data/polygons.pkl\")[[\"polygon_id\", \"polygon_wkb\"]], how=\"inner\", on=[\"polygon_id\"])\n",
    ")\n",
    "valid_df = valid_df.groupby([\"polygon_id\", \"polygon_wkb\"], as_index=False)[[\"posts_count\"]].sum()\n",
    "\n",
    "valid_gdf = gpd.GeoDataFrame(\n",
    "    valid_df[[\"polygon_id\", \"posts_count\"]],\n",
    "    geometry=valid_df[\"polygon_wkb\"].apply(wkb.loads),\n",
    "    crs=\"EPSG:4326\",\n",
    ")\n",
    "\n",
    "valid_gdf"
   ]
  },
  {
   "cell_type": "code",
   "execution_count": null,
   "metadata": {},
   "outputs": [],
   "source": [
    "test_df = (\n",
    "    pd.read_pickle(\"./../data/test.pkl\")\n",
    "    .rename(columns={\"fact_posts_count\": \"posts_count\"})[[\"polygon_id\", \"posts_count\"]]\n",
    "    .merge(pd.read_pickle(\"./../data/polygons.pkl\")[[\"polygon_id\", \"polygon_wkb\"]], how=\"inner\", on=[\"polygon_id\"])\n",
    ")\n",
    "test_df = test_df.groupby([\"polygon_id\", \"polygon_wkb\"], as_index=False)[[\"posts_count\"]].sum()\n",
    "\n",
    "test_gdf = gpd.GeoDataFrame(\n",
    "    test_df[[\"polygon_id\", \"posts_count\"]],\n",
    "    geometry=test_df[\"polygon_wkb\"].apply(wkb.loads),\n",
    "    crs=\"EPSG:4326\",\n",
    ")\n",
    "\n",
    "test_gdf"
   ]
  },
  {
   "cell_type": "code",
   "execution_count": null,
   "metadata": {},
   "outputs": [],
   "source": [
    "vmin = min(plot_mart_df[\"posts_count\"].min(), valid_gdf[\"posts_count\"].min(), test_gdf[\"posts_count\"].min())\n",
    "vmax = max(plot_mart_df[\"posts_count\"].max(), valid_gdf[\"posts_count\"].max(), test_gdf[\"posts_count\"].max())\n",
    "colormap = cmp.LinearColormap(colors=[\"purple\", \"yellow\", \"#c7f6b6\", \"#c7f6b6\", \"green\"][::-1], vmin=vmin, vmax=vmax)\n",
    "\n",
    "n_steps = 12\n",
    "list_of_values = plot_mart_df[\"posts_count\"].sort_values()\n",
    "list_of_values = [i for i in list_of_values if i != 0]\n",
    "length = len(list_of_values)\n",
    "index = [list_of_values[int((length / n_steps) * i)] for i in range(n_steps)]\n",
    "print(index)\n",
    "\n",
    "# index = [\n",
    "#     plot_mart_df[\"posts_count\"].min(),\n",
    "#     plot_mart_df[\"posts_count\"].quantile(0.8),\n",
    "#     plot_mart_df[\"posts_count\"].quantile(0.99),\n",
    "#     plot_mart_df[\"posts_count\"].max(),\n",
    "# ]\n",
    "\n",
    "colormap = colormap.to_step(index=index)\n",
    "colormap"
   ]
  },
  {
   "cell_type": "code",
   "execution_count": null,
   "metadata": {},
   "outputs": [],
   "source": [
    "m = folium.Map([59.9375, 30.375], zoom_start=13, tiles=None)\n",
    "\n",
    "base_map = folium.FeatureGroup(name=\"osm\", overlay=True, control=False)\n",
    "folium.TileLayer(tiles=\"OpenStreetMap\").add_to(base_map)\n",
    "base_map.add_to(m)\n",
    "\n",
    "folium.GeoJson(data=sp_geojson, name=\"Saint-Petersburg\").add_to(m)\n",
    "\n",
    "style_function = lambda x: {\n",
    "    \"weight\": 0.1,\n",
    "    \"color\": \"black\",\n",
    "    \"fillColor\": colormap(x[\"properties\"][\"posts_count\"]),\n",
    "    \"fillOpacity\": 0.6,\n",
    "}\n",
    "colormap.add_to(m)\n",
    "\n",
    "for event_month in tqdm(sorted(plot_mart_df[\"event_month\"].unique())):\n",
    "    if event_month != \"2020-02\":\n",
    "        forecast_layer = folium.FeatureGroup(name=event_month, show=False)\n",
    "    else:\n",
    "        forecast_layer = folium.FeatureGroup(name=\"forecast: 2020-02\")\n",
    "\n",
    "    folium.GeoJson(\n",
    "        plot_mart_df.loc[\n",
    "            plot_mart_df[\"event_month\"] == event_month, [\"polygon_id\", \"posts_count\", \"geometry\"]\n",
    "        ].to_json(),\n",
    "        style_function=style_function,\n",
    "        tooltip=folium.GeoJsonTooltip([\"polygon_id\", \"posts_count\"], labels=True),\n",
    "    ).add_to(forecast_layer)\n",
    "\n",
    "    forecast_layer.add_to(m)\n",
    "\n",
    "valid_layer = folium.FeatureGroup(name=\"validation: 2020-02\")\n",
    "folium.GeoJson(\n",
    "    valid_gdf.to_json(),\n",
    "    style_function=style_function,\n",
    "    tooltip=folium.GeoJsonTooltip([\"polygon_id\", \"posts_count\"], labels=True),\n",
    ").add_to(valid_layer)\n",
    "valid_layer.add_to(m)\n",
    "\n",
    "test_layer = folium.FeatureGroup(name=\"test: 2020-02\")\n",
    "folium.GeoJson(\n",
    "    test_gdf.to_json(),\n",
    "    style_function=style_function,\n",
    "    tooltip=folium.GeoJsonTooltip([\"polygon_id\", \"posts_count\"], labels=True),\n",
    ").add_to(test_layer)\n",
    "test_layer.add_to(m)\n",
    "\n",
    "folium.LayerControl(collapsed=False).add_to(m)\n",
    "\n",
    "m.save(\"./../maps/map.html\")\n",
    "\n",
    "m"
   ]
  }
 ],
 "metadata": {
  "kernelspec": {
   "display_name": "Python 3.10.6 ('.venv': poetry)",
   "language": "python",
   "name": "python3"
  },
  "language_info": {
   "codemirror_mode": {
    "name": "ipython",
    "version": 3
   },
   "file_extension": ".py",
   "mimetype": "text/x-python",
   "name": "python",
   "nbconvert_exporter": "python",
   "pygments_lexer": "ipython3",
   "version": "3.10.6"
  },
  "orig_nbformat": 4,
  "vscode": {
   "interpreter": {
    "hash": "0d2b43afa4b906e126edc721c15637edc121f2ae012862e0c62380fa084b3ffa"
   }
  }
 },
 "nbformat": 4,
 "nbformat_minor": 2
}
